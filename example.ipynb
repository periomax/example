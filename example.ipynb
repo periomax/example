{
 "cells": [
  {
   "cell_type": "markdown",
   "id": "a2dedcec",
   "metadata": {},
   "source": [
    "hello_fuc() prints a \"hello\" message. "
   ]
  },
  {
   "cell_type": "code",
   "execution_count": 1,
   "id": "2f834e66",
   "metadata": {},
   "outputs": [
    {
     "name": "stdout",
     "output_type": "stream",
     "text": [
      "hello\n"
     ]
    }
   ],
   "source": [
    "def hello_fuc():\n",
    "    print(\"hello\")\n",
    "    \n",
    "hello_fuc();"
   ]
  }
 ],
 "metadata": {
  "kernelspec": {
   "display_name": "Python 3",
   "language": "python",
   "name": "python3"
  },
  "language_info": {
   "codemirror_mode": {
    "name": "ipython",
    "version": 3
   },
   "file_extension": ".py",
   "mimetype": "text/x-python",
   "name": "python",
   "nbconvert_exporter": "python",
   "pygments_lexer": "ipython3",
   "version": "3.6.13"
  }
 },
 "nbformat": 4,
 "nbformat_minor": 5
}
